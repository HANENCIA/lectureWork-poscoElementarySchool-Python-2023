{
 "cells": [
  {
   "cell_type": "markdown",
   "id": "0f43c046",
   "metadata": {},
   "source": [
    "# 1. 출력 (Print)"
   ]
  },
  {
   "cell_type": "code",
   "execution_count": null,
   "id": "af6a240d",
   "metadata": {},
   "outputs": [],
   "source": [
    "print(\"포항제철초등학교 화이팅!\")"
   ]
  },
  {
   "cell_type": "code",
   "execution_count": null,
   "id": "b26bde0c",
   "metadata": {},
   "outputs": [],
   "source": [
    "name = '김진규'\n",
    "print(\"{}님은 파이썬 천재입니다.\".format(name))"
   ]
  },
  {
   "cell_type": "code",
   "execution_count": null,
   "id": "a524d765",
   "metadata": {},
   "outputs": [],
   "source": [
    "print(f\"{name}님은 파이썬 천재입니다.\")"
   ]
  },
  {
   "cell_type": "markdown",
   "id": "76eb6268",
   "metadata": {},
   "source": [
    "# 2. 기본 연산자 (Operator)"
   ]
  },
  {
   "cell_type": "code",
   "execution_count": null,
   "id": "fcff3409",
   "metadata": {},
   "outputs": [],
   "source": [
    "a = 5\n",
    "b = 3"
   ]
  },
  {
   "cell_type": "code",
   "execution_count": null,
   "id": "beb2ae77",
   "metadata": {},
   "outputs": [],
   "source": [
    "# 덧셈\n",
    "c = a + b"
   ]
  },
  {
   "cell_type": "code",
   "execution_count": null,
   "id": "01a0988f",
   "metadata": {},
   "outputs": [],
   "source": [
    "print(c)"
   ]
  },
  {
   "cell_type": "code",
   "execution_count": null,
   "id": "e170c3d0",
   "metadata": {},
   "outputs": [],
   "source": [
    "# 뺄셈\n",
    "c = a - b\n",
    "print(c)"
   ]
  },
  {
   "cell_type": "code",
   "execution_count": null,
   "id": "6ca83d60",
   "metadata": {},
   "outputs": [],
   "source": [
    "# 곱셈\n",
    "c = a * b\n",
    "print(c)"
   ]
  },
  {
   "cell_type": "code",
   "execution_count": null,
   "id": "0f479c6b",
   "metadata": {},
   "outputs": [],
   "source": [
    "# 나눗셈\n",
    "c = a / b\n",
    "print(c)"
   ]
  },
  {
   "cell_type": "code",
   "execution_count": null,
   "id": "f81a941a",
   "metadata": {},
   "outputs": [],
   "source": [
    "# 나눗셈 중 몫\n",
    "c = a // b\n",
    "print(c)"
   ]
  },
  {
   "cell_type": "code",
   "execution_count": null,
   "id": "71916d92",
   "metadata": {},
   "outputs": [],
   "source": [
    "# 나눗셈 중 나머지(mod)\n",
    "c = a % b\n",
    "print(c)"
   ]
  },
  {
   "cell_type": "markdown",
   "id": "ed109b57",
   "metadata": {},
   "source": [
    "# 3. 자료형 (Data Type)"
   ]
  },
  {
   "cell_type": "markdown",
   "id": "2509c18b",
   "metadata": {},
   "source": [
    "## 3.1. 숫자형 (Numeric)"
   ]
  },
  {
   "cell_type": "code",
   "execution_count": null,
   "id": "2b88156a",
   "metadata": {
    "scrolled": true
   },
   "outputs": [],
   "source": [
    "# 정수 (Integer)\n",
    "a = 123\n",
    "print(a)"
   ]
  },
  {
   "cell_type": "code",
   "execution_count": null,
   "id": "ff4bf8c9",
   "metadata": {
    "scrolled": true
   },
   "outputs": [],
   "source": [
    "print(type(a))"
   ]
  },
  {
   "cell_type": "code",
   "execution_count": null,
   "id": "0819118c",
   "metadata": {},
   "outputs": [],
   "source": [
    "# 부동소수점 (Float)\n",
    "b = -123.4\n",
    "print(b)\n",
    "print(type(b))"
   ]
  },
  {
   "cell_type": "code",
   "execution_count": null,
   "id": "70d412c3",
   "metadata": {},
   "outputs": [],
   "source": [
    "# 부동소수점\n",
    "c = a + b\n",
    "print(c)\n",
    "print(type(c))"
   ]
  },
  {
   "cell_type": "markdown",
   "id": "3d02e677",
   "metadata": {},
   "source": [
    "## 3.2. 문자형 (String)"
   ]
  },
  {
   "cell_type": "code",
   "execution_count": null,
   "id": "ae34b3a7",
   "metadata": {
    "scrolled": true
   },
   "outputs": [],
   "source": [
    "a = \"포항제철 초등학교\"\n",
    "print(a)"
   ]
  },
  {
   "cell_type": "code",
   "execution_count": null,
   "id": "c9cc45df",
   "metadata": {
    "scrolled": true
   },
   "outputs": [],
   "source": [
    "print(type(a))"
   ]
  },
  {
   "cell_type": "code",
   "execution_count": null,
   "id": "161faeeb",
   "metadata": {},
   "outputs": [],
   "source": [
    "print(len(a))"
   ]
  },
  {
   "cell_type": "code",
   "execution_count": null,
   "id": "3923bd0a",
   "metadata": {},
   "outputs": [],
   "source": [
    "b = 2"
   ]
  },
  {
   "cell_type": "code",
   "execution_count": null,
   "id": "14f15579",
   "metadata": {},
   "outputs": [],
   "source": [
    "print(type(b))"
   ]
  },
  {
   "cell_type": "code",
   "execution_count": null,
   "id": "e78216a0",
   "metadata": {},
   "outputs": [],
   "source": [
    "print(len(b))"
   ]
  },
  {
   "cell_type": "code",
   "execution_count": null,
   "id": "0182db41",
   "metadata": {},
   "outputs": [],
   "source": [
    "c = '2'"
   ]
  },
  {
   "cell_type": "code",
   "execution_count": null,
   "id": "3e4119e5",
   "metadata": {},
   "outputs": [],
   "source": [
    "print(c + 2)"
   ]
  },
  {
   "cell_type": "code",
   "execution_count": null,
   "id": "1bacfc89",
   "metadata": {},
   "outputs": [],
   "source": [
    "a = '데이터 분석'\n",
    "b = '은 재미있다'"
   ]
  },
  {
   "cell_type": "code",
   "execution_count": null,
   "id": "609b587d",
   "metadata": {},
   "outputs": [],
   "source": [
    "c = a + \"이 재미없다\""
   ]
  },
  {
   "cell_type": "code",
   "execution_count": null,
   "id": "c062203b",
   "metadata": {},
   "outputs": [],
   "source": [
    "print(c)"
   ]
  },
  {
   "cell_type": "code",
   "execution_count": null,
   "id": "3c6652e5",
   "metadata": {},
   "outputs": [],
   "source": [
    "a = '데이터 분석'\n",
    "print(a)\n",
    "print(type(a))\n",
    "print(len(a))"
   ]
  },
  {
   "cell_type": "code",
   "execution_count": null,
   "id": "16af8357",
   "metadata": {},
   "outputs": [],
   "source": [
    "b = '123'\n",
    "print(b)\n",
    "print(type(b))\n",
    "print(len(b))"
   ]
  },
  {
   "cell_type": "code",
   "execution_count": null,
   "id": "cb0e6b6f",
   "metadata": {},
   "outputs": [],
   "source": [
    "c = int(b)\n",
    "print(c)\n",
    "print(type(c))"
   ]
  },
  {
   "cell_type": "code",
   "execution_count": null,
   "id": "4ec3f1ee",
   "metadata": {},
   "outputs": [],
   "source": [
    "print(len(c))"
   ]
  },
  {
   "cell_type": "code",
   "execution_count": null,
   "id": "8ad1ec1f",
   "metadata": {},
   "outputs": [],
   "source": [
    "d = a + b\n",
    "print(d)"
   ]
  },
  {
   "cell_type": "code",
   "execution_count": null,
   "id": "0de5e8ab",
   "metadata": {},
   "outputs": [],
   "source": [
    "e = \"나는 파이썬이 재미있습니다.\""
   ]
  },
  {
   "cell_type": "code",
   "execution_count": null,
   "id": "957bc229",
   "metadata": {},
   "outputs": [],
   "source": [
    "e = e.replace(\"파이썬\", \"수학\")\n",
    "print(e)"
   ]
  },
  {
   "cell_type": "code",
   "execution_count": null,
   "id": "9ca1d0f4",
   "metadata": {},
   "outputs": [],
   "source": [
    "유빈 = 95\n",
    "현서 = 89\n",
    "종승 = 0\n",
    "정규 = 15"
   ]
  },
  {
   "cell_type": "code",
   "execution_count": null,
   "id": "266f6451",
   "metadata": {},
   "outputs": [],
   "source": [
    "a = [95, 89, 0, 15]"
   ]
  },
  {
   "cell_type": "markdown",
   "id": "d50cdfb0",
   "metadata": {},
   "source": [
    "## 3.3. 리스트 (List)"
   ]
  },
  {
   "cell_type": "code",
   "execution_count": null,
   "id": "9214f738",
   "metadata": {},
   "outputs": [],
   "source": [
    "a = [85, 90, 0, 15]"
   ]
  },
  {
   "cell_type": "code",
   "execution_count": null,
   "id": "12d4fd87",
   "metadata": {},
   "outputs": [],
   "source": [
    "print(a)"
   ]
  },
  {
   "cell_type": "code",
   "execution_count": null,
   "id": "cddd96ff",
   "metadata": {},
   "outputs": [],
   "source": [
    "print(type(a))"
   ]
  },
  {
   "cell_type": "code",
   "execution_count": null,
   "id": "4e1e3715",
   "metadata": {},
   "outputs": [],
   "source": [
    "b = [\"유라\", \"현아\", \"종성\", \"진규\"]"
   ]
  },
  {
   "cell_type": "code",
   "execution_count": null,
   "id": "ae3be280",
   "metadata": {},
   "outputs": [],
   "source": [
    "print(b[1])"
   ]
  },
  {
   "cell_type": "code",
   "execution_count": null,
   "id": "a76501ba",
   "metadata": {},
   "outputs": [],
   "source": [
    "print(b)\n",
    "print(type(b))"
   ]
  },
  {
   "cell_type": "code",
   "execution_count": null,
   "id": "a635f6cb",
   "metadata": {},
   "outputs": [],
   "source": [
    "print(a)\n",
    "print(type(a))\n",
    "print(b)\n",
    "print(type(b))"
   ]
  },
  {
   "cell_type": "code",
   "execution_count": null,
   "id": "6b4462d4",
   "metadata": {},
   "outputs": [],
   "source": [
    "print(a[1])\n",
    "print(b[1])"
   ]
  },
  {
   "cell_type": "code",
   "execution_count": null,
   "id": "4a3ab2dd",
   "metadata": {},
   "outputs": [],
   "source": [
    "b = [\"유라\", \"현아\", \"종성\", \"진규\"]"
   ]
  },
  {
   "cell_type": "code",
   "execution_count": null,
   "id": "7351f7f2",
   "metadata": {},
   "outputs": [],
   "source": [
    "print(b[2:4])"
   ]
  },
  {
   "cell_type": "code",
   "execution_count": null,
   "id": "644c3327",
   "metadata": {},
   "outputs": [],
   "source": [
    "print(b[2:])"
   ]
  },
  {
   "cell_type": "code",
   "execution_count": null,
   "id": "b4330b52",
   "metadata": {},
   "outputs": [],
   "source": [
    "print(b[0:3])"
   ]
  },
  {
   "cell_type": "code",
   "execution_count": null,
   "id": "4f83c19c",
   "metadata": {},
   "outputs": [],
   "source": [
    "print(b[:3])"
   ]
  },
  {
   "cell_type": "code",
   "execution_count": null,
   "id": "26c060d5",
   "metadata": {},
   "outputs": [],
   "source": [
    "b.append(\"현진\")"
   ]
  },
  {
   "cell_type": "code",
   "execution_count": null,
   "id": "123f6201",
   "metadata": {},
   "outputs": [],
   "source": [
    "print(b)"
   ]
  },
  {
   "cell_type": "code",
   "execution_count": null,
   "id": "974559a6",
   "metadata": {},
   "outputs": [],
   "source": [
    "b.sort()"
   ]
  },
  {
   "cell_type": "code",
   "execution_count": null,
   "id": "c055e3ba",
   "metadata": {
    "scrolled": false
   },
   "outputs": [],
   "source": [
    "print(b)"
   ]
  },
  {
   "cell_type": "code",
   "execution_count": null,
   "id": "bb647ba7",
   "metadata": {},
   "outputs": [],
   "source": [
    "b.sort(reverse=True)"
   ]
  },
  {
   "cell_type": "code",
   "execution_count": null,
   "id": "fb4169b6",
   "metadata": {},
   "outputs": [],
   "source": [
    "print(b)"
   ]
  },
  {
   "cell_type": "code",
   "execution_count": null,
   "id": "adf6aaba",
   "metadata": {},
   "outputs": [],
   "source": [
    "b.sort(reverse=True)\n",
    "print(b)"
   ]
  },
  {
   "cell_type": "code",
   "execution_count": null,
   "id": "e680cf2d",
   "metadata": {},
   "outputs": [],
   "source": [
    "b.reverse()\n",
    "print(b)"
   ]
  },
  {
   "cell_type": "code",
   "execution_count": null,
   "id": "2d63d2be",
   "metadata": {},
   "outputs": [],
   "source": [
    "c = [\"대학교\", \"대학원\"]\n",
    "d = b + c\n",
    "print(d)"
   ]
  },
  {
   "cell_type": "markdown",
   "id": "17f09f5f",
   "metadata": {},
   "source": [
    "# 4. 제어문 (Control Statements)"
   ]
  },
  {
   "cell_type": "markdown",
   "id": "22b9b6ca",
   "metadata": {},
   "source": [
    "## 4.1. if문"
   ]
  },
  {
   "cell_type": "code",
   "execution_count": null,
   "id": "7839f5e6",
   "metadata": {
    "scrolled": true
   },
   "outputs": [],
   "source": [
    "money = 30000\n",
    "\n",
    "if money >= 40000:\n",
    "    print(\"KTX 타고 가자\")\n",
    "elif money >= 20000:\n",
    "    print(\"버스 타고 가자\")\n",
    "else:\n",
    "    print(\"터벅터벅...\")"
   ]
  },
  {
   "cell_type": "code",
   "execution_count": null,
   "id": "32f410c4",
   "metadata": {},
   "outputs": [],
   "source": [
    "현진_영어점수 = 68"
   ]
  },
  {
   "cell_type": "code",
   "execution_count": null,
   "id": "d0ae4b49",
   "metadata": {},
   "outputs": [],
   "source": [
    "if 현진_영어점수 == 100:\n",
    "    print(\"참 잘했어요\")\n",
    "elif 현진_영어점수 >= 70:\n",
    "    print(\"고생했어요\")\n",
    "else:\n",
    "    print(\"공부하세요\")"
   ]
  },
  {
   "cell_type": "code",
   "execution_count": null,
   "id": "98998a2d",
   "metadata": {},
   "outputs": [],
   "source": [
    "money = 30000"
   ]
  },
  {
   "cell_type": "code",
   "execution_count": null,
   "id": "f0dbcd7a",
   "metadata": {},
   "outputs": [],
   "source": [
    "if money >= 50000:\n",
    "    print(\"KTX 타고 가자\")\n",
    "elif money > 30000:\n",
    "    print(\"버스 타고 가자\")\n",
    "else:\n",
    "    print(\"걸어가자\")"
   ]
  },
  {
   "cell_type": "code",
   "execution_count": null,
   "id": "638cf6a5",
   "metadata": {},
   "outputs": [],
   "source": [
    "if money >= 50000:\n",
    "    print(\"KTX 타고 가자\")\n",
    "elif money >= 30000:\n",
    "    print(\"버스 타고 가자\")\n",
    "elif money < 30000:\n",
    "    print(\"걸어가자\")"
   ]
  },
  {
   "cell_type": "code",
   "execution_count": null,
   "id": "4ceecc22",
   "metadata": {},
   "outputs": [],
   "source": [
    "s = \"집중이 안되\""
   ]
  },
  {
   "cell_type": "code",
   "execution_count": null,
   "id": "5ab23064",
   "metadata": {
    "scrolled": false
   },
   "outputs": [],
   "source": [
    "if \"안되\" in s:\n",
    "    print(\"맞춤법이 틀렸습니다.\")\n",
    "else:\n",
    "    print(\"맞춤법이 맞습니다.\")"
   ]
  },
  {
   "cell_type": "code",
   "execution_count": null,
   "id": "ea475aab",
   "metadata": {},
   "outputs": [],
   "source": [
    "s = \"호두가 맛있어 보입니다\""
   ]
  },
  {
   "cell_type": "code",
   "execution_count": null,
   "id": "29e04528",
   "metadata": {},
   "outputs": [],
   "source": [
    "if \"사과\" in s:\n",
    "    print(\"맛있는 사과가 있습니다.\")\n",
    "elif \"바나나\" in s:\n",
    "    print(\"맛있는 바나나가 있습니다.\")\n",
    "else:\n",
    "    print(\"과일 주세요\")"
   ]
  },
  {
   "cell_type": "code",
   "execution_count": null,
   "id": "6daf4436",
   "metadata": {},
   "outputs": [],
   "source": [
    "s = \"사과머리\""
   ]
  },
  {
   "cell_type": "code",
   "execution_count": null,
   "id": "1893268a",
   "metadata": {},
   "outputs": [],
   "source": [
    "if \"사과머리\" in s:\n",
    "    print(\"머리스타일\")\n",
    "elif \"사과\" in s:\n",
    "    print(\"과일\")"
   ]
  },
  {
   "cell_type": "code",
   "execution_count": null,
   "id": "efcf0aed",
   "metadata": {},
   "outputs": [],
   "source": [
    "sentence_test = '집중이 안되 외않되'\n",
    "if '안되' in sentence_test:\n",
    "    print(\"맞춤법이 틀렸습니다: 안되\")\n",
    "elif '외않되' in sentence_test:\n",
    "    print(\"맞춤법이 틀렸습니다: 외않되\")\n",
    "else:\n",
    "    print(\"맞춤법이 맞습니다\")"
   ]
  },
  {
   "cell_type": "markdown",
   "id": "c31b591e",
   "metadata": {},
   "source": [
    "## 4.2. for문"
   ]
  },
  {
   "cell_type": "code",
   "execution_count": null,
   "id": "61f65979",
   "metadata": {},
   "outputs": [],
   "source": [
    "# 숫자\n",
    "result = 0\n",
    "\n",
    "for i in range(0, 11):\n",
    "    print(str(i) + '을(를) 더합니다')\n",
    "    result = result + i\n",
    "\n",
    "print(result)"
   ]
  },
  {
   "cell_type": "code",
   "execution_count": null,
   "id": "3d35b3df",
   "metadata": {},
   "outputs": [],
   "source": [
    "# 숫자\n",
    "result = 0\n",
    "\n",
    "for i in range(11):\n",
    "    print(str(i) + '을(를) 더합니다')\n",
    "    result = result + i\n",
    "\n",
    "print(result)"
   ]
  },
  {
   "cell_type": "code",
   "execution_count": null,
   "id": "e2a1fe2a",
   "metadata": {},
   "outputs": [],
   "source": [
    "# list\n",
    "family_name_list = [\"KIM\", \"LEE\", \"PARK\", \"JEONG\"]\n",
    "for name in family_name_list:\n",
    "    print(name)"
   ]
  },
  {
   "cell_type": "code",
   "execution_count": null,
   "id": "57b90b90",
   "metadata": {},
   "outputs": [],
   "source": [
    "# list, filter\n",
    "words_list = ['강', '바다', '산', '도시', '시골']\n",
    "filtered_list = [word for word in words_list if len(word) > 1]\n",
    "print(filtered_list)"
   ]
  },
  {
   "cell_type": "code",
   "execution_count": null,
   "id": "903b22bc",
   "metadata": {},
   "outputs": [],
   "source": [
    "# list, filter, lambda: 불용어 제거\n",
    "words_list = [['국가', '국민', '교육', '교육감', '대학교', '대학원', '고등학교'], ['대통령', '국민', '대학교']]\n",
    "stop_words = ['대학교', '국민']\n",
    "final_words_list = []\n",
    "for w in words_list:\n",
    "    final_words_list.append(list(filter(lambda x: x not in stop_words, w)))\n",
    "print(final_words_list)"
   ]
  }
 ],
 "metadata": {
  "kernelspec": {
   "display_name": "Python 3 (ipykernel)",
   "language": "python",
   "name": "python3"
  },
  "language_info": {
   "codemirror_mode": {
    "name": "ipython",
    "version": 3
   },
   "file_extension": ".py",
   "mimetype": "text/x-python",
   "name": "python",
   "nbconvert_exporter": "python",
   "pygments_lexer": "ipython3",
   "version": "3.10.12"
  }
 },
 "nbformat": 4,
 "nbformat_minor": 5
}
