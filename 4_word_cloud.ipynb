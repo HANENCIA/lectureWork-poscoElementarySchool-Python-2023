{
 "cells": [
  {
   "cell_type": "code",
   "execution_count": null,
   "id": "e8fe317f",
   "metadata": {},
   "outputs": [],
   "source": [
    "# wordcloud 라이브러리 설치\n",
    "!pip install wordcloud\n",
    "\n",
    "# 만약 설치에 오류가 발생할 경우 Anaconda Prompt에서 다음과 같이 명령어 입력\n",
    "# conda install -c https://conda.anaconda.org/conda-forge wordcloud"
   ]
  },
  {
   "cell_type": "code",
   "execution_count": null,
   "id": "8125695c",
   "metadata": {},
   "outputs": [],
   "source": [
    "import numpy as np\n",
    "import pandas as pd\n",
    "from wordcloud import ImageColorGenerator\n",
    "from wordcloud import WordCloud\n",
    "from PIL import Image\n",
    "import matplotlib.pyplot as plt"
   ]
  },
  {
   "cell_type": "code",
   "execution_count": null,
   "id": "15a54655",
   "metadata": {},
   "outputs": [],
   "source": [
    "word_count_df = pd.read_csv('word_count.csv', sep=',', encoding='utf-8')"
   ]
  },
  {
   "cell_type": "code",
   "execution_count": null,
   "id": "a3f3cbd0",
   "metadata": {},
   "outputs": [],
   "source": [
    "word_count_df"
   ]
  },
  {
   "cell_type": "code",
   "execution_count": null,
   "id": "9285c9e5",
   "metadata": {},
   "outputs": [],
   "source": [
    "wordcloud = WordCloud(font_path = './08SeoulNamsanB.ttf',\n",
    "                      width = 800,\n",
    "                      height = 600,\n",
    "                      min_font_size = 20,\n",
    "                      max_font_size = 200,\n",
    "                      background_color=\"rgba(255, 255, 255, 0)\", mode=\"RGBA\",\n",
    "                     )\n",
    "\n",
    "wordcloud = wordcloud.generate_from_frequencies(dict(word_count_df.values.tolist()))\n",
    "plt.figure(figsize=(20, 10))\n",
    "plt.axis('off')\n",
    "plt.imshow(wordcloud, interpolation=\"bilinear\")\n",
    "plt.show()"
   ]
  },
  {
   "cell_type": "code",
   "execution_count": null,
   "id": "45b6a0a7",
   "metadata": {},
   "outputs": [],
   "source": [
    "mask_image = './resources/wordcloud_airplane.png'\n",
    "mask = np.array(Image.open(mask_image))\n",
    "mask_colors = ImageColorGenerator(mask)\n",
    "\n",
    "wordcloud = WordCloud(font_path = './resources/08SeoulNamsanB.ttf',\n",
    "                      width = 800,\n",
    "                      height = 600,\n",
    "                      min_font_size = 20,\n",
    "                      max_font_size = 200,\n",
    "                      background_color=\"rgba(255, 255, 255, 0)\", mode=\"RGBA\",\n",
    "                      mask = mask\n",
    "                     )\n",
    "\n",
    "wordcloud = wordcloud.generate_from_frequencies(dict(word_count_df.values.tolist()))\n",
    "plt.figure(figsize=(20, 10))\n",
    "plt.axis('off')\n",
    "plt.imshow(wordcloud.recolor(color_func = mask_colors), interpolation=\"bilinear\")\n",
    "plt.show()"
   ]
  },
  {
   "cell_type": "code",
   "execution_count": null,
   "id": "9b3a3c46",
   "metadata": {},
   "outputs": [],
   "source": [
    "wordcloud.to_file('Wordcloud.png')"
   ]
  }
 ],
 "metadata": {
  "kernelspec": {
   "display_name": "Python 3 (ipykernel)",
   "language": "python",
   "name": "python3"
  },
  "language_info": {
   "codemirror_mode": {
    "name": "ipython",
    "version": 3
   },
   "file_extension": ".py",
   "mimetype": "text/x-python",
   "name": "python",
   "nbconvert_exporter": "python",
   "pygments_lexer": "ipython3",
   "version": "3.10.12"
  }
 },
 "nbformat": 4,
 "nbformat_minor": 5
}
