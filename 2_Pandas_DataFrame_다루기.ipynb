{
 "cells": [
  {
   "cell_type": "markdown",
   "id": "5c71fe52",
   "metadata": {},
   "source": [
    "# 1. Data Frame 기초"
   ]
  },
  {
   "cell_type": "code",
   "execution_count": null,
   "id": "fceebe70",
   "metadata": {},
   "outputs": [],
   "source": [
    "!pip install pandas"
   ]
  },
  {
   "cell_type": "code",
   "execution_count": null,
   "id": "c02d3835",
   "metadata": {},
   "outputs": [],
   "source": [
    "import pandas as pd"
   ]
  },
  {
   "cell_type": "code",
   "execution_count": null,
   "id": "81a777da",
   "metadata": {},
   "outputs": [],
   "source": [
    "df_list = [[1, 2, 3, 4], [5, 6, 7, 8]]\n",
    "df = pd.DataFrame(df_list, columns=[\"A\", \"B\", \"C\", \"D\"])"
   ]
  },
  {
   "cell_type": "code",
   "execution_count": null,
   "id": "18d038c8",
   "metadata": {},
   "outputs": [],
   "source": [
    "print(df)"
   ]
  },
  {
   "cell_type": "markdown",
   "id": "7b1298c8",
   "metadata": {},
   "source": [
    "# 2. 빅카인즈 데이터 불러오기"
   ]
  },
  {
   "cell_type": "code",
   "execution_count": null,
   "id": "6c09392b",
   "metadata": {},
   "outputs": [],
   "source": [
    "!pip install pandas\n",
    "!pip install openpyxl"
   ]
  },
  {
   "cell_type": "code",
   "execution_count": null,
   "id": "1f0cf285",
   "metadata": {},
   "outputs": [],
   "source": [
    "import pandas as pd"
   ]
  },
  {
   "cell_type": "code",
   "execution_count": null,
   "id": "1bcff462",
   "metadata": {},
   "outputs": [],
   "source": [
    "# Excel 파일 열기\n",
    "raw_df = pd.ExcelFile('./data/NewsResult_20230810-20230910.xlsx').parse('sheet')"
   ]
  },
  {
   "cell_type": "code",
   "execution_count": null,
   "id": "5be8bf86",
   "metadata": {},
   "outputs": [],
   "source": [
    "# 첫 5행 보기\n",
    "raw_df.head()"
   ]
  },
  {
   "cell_type": "code",
   "execution_count": null,
   "id": "8b8458f4",
   "metadata": {},
   "outputs": [],
   "source": [
    "# 마지막 5행 보기\n",
    "raw_df.tail()"
   ]
  },
  {
   "cell_type": "code",
   "execution_count": null,
   "id": "60f39e3e",
   "metadata": {},
   "outputs": [],
   "source": [
    "# 처음부터 10번째 행까지 보기\n",
    "raw_df[:10]"
   ]
  },
  {
   "cell_type": "code",
   "execution_count": null,
   "id": "7d7f88a6",
   "metadata": {},
   "outputs": [],
   "source": [
    "# Column 이름 보기\n",
    "raw_df.columns"
   ]
  },
  {
   "cell_type": "code",
   "execution_count": null,
   "id": "2211f9ea",
   "metadata": {},
   "outputs": [],
   "source": [
    "# 키워드 Column만 추출\n",
    "keyword = raw_df['키워드']\n",
    "print(keyword)"
   ]
  },
  {
   "cell_type": "code",
   "execution_count": null,
   "id": "5481917f",
   "metadata": {},
   "outputs": [],
   "source": [
    "# 키워드 Column만 추출해서 list로 변환\n",
    "keyword_lst = raw_df['키워드'].tolist()"
   ]
  },
  {
   "cell_type": "code",
   "execution_count": null,
   "id": "1353ec80",
   "metadata": {},
   "outputs": [],
   "source": [
    "print(keyword_lst)"
   ]
  },
  {
   "cell_type": "code",
   "execution_count": null,
   "id": "db5cec8e",
   "metadata": {
    "scrolled": false
   },
   "outputs": [],
   "source": [
    "print(keyword_lst[:10])"
   ]
  }
 ],
 "metadata": {
  "kernelspec": {
   "display_name": "Python 3 (ipykernel)",
   "language": "python",
   "name": "python3"
  },
  "language_info": {
   "codemirror_mode": {
    "name": "ipython",
    "version": 3
   },
   "file_extension": ".py",
   "mimetype": "text/x-python",
   "name": "python",
   "nbconvert_exporter": "python",
   "pygments_lexer": "ipython3",
   "version": "3.10.12"
  }
 },
 "nbformat": 4,
 "nbformat_minor": 5
}
