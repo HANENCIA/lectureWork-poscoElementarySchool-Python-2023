{
 "cells": [
  {
   "cell_type": "code",
   "execution_count": null,
   "id": "4ea860c0",
   "metadata": {},
   "outputs": [],
   "source": [
    "!pip install pandas\n",
    "!pip install matplotlib\n",
    "!pip install openpyxl"
   ]
  },
  {
   "cell_type": "code",
   "execution_count": null,
   "id": "55d75552",
   "metadata": {},
   "outputs": [],
   "source": [
    "import pandas as pd\n",
    "import itertools\n",
    "from collections import Counter\n",
    "\n",
    "import matplotlib\n",
    "import matplotlib.font_manager as fm\n",
    "import matplotlib.pyplot as plt"
   ]
  },
  {
   "cell_type": "code",
   "execution_count": null,
   "id": "272ad154",
   "metadata": {},
   "outputs": [],
   "source": [
    "# 엑셀 파일 불러오기\n",
    "raw_df = pd.ExcelFile('./data/NewsResult_20230810-20230910.xlsx').parse('sheet')"
   ]
  },
  {
   "cell_type": "code",
   "execution_count": null,
   "id": "43df1412",
   "metadata": {},
   "outputs": [],
   "source": [
    "raw_df"
   ]
  },
  {
   "cell_type": "code",
   "execution_count": null,
   "id": "4f804d02",
   "metadata": {},
   "outputs": [],
   "source": [
    "keyword = raw_df['키워드']"
   ]
  },
  {
   "cell_type": "code",
   "execution_count": null,
   "id": "1aa6d66c",
   "metadata": {},
   "outputs": [],
   "source": [
    "keyword"
   ]
  },
  {
   "cell_type": "code",
   "execution_count": null,
   "id": "54159ab5",
   "metadata": {},
   "outputs": [],
   "source": [
    "keyword = keyword.dropna() # 결측값 (NaN) 제거"
   ]
  },
  {
   "cell_type": "code",
   "execution_count": null,
   "id": "21098e2e",
   "metadata": {},
   "outputs": [],
   "source": [
    "keyword"
   ]
  },
  {
   "cell_type": "code",
   "execution_count": null,
   "id": "7e9a176e",
   "metadata": {},
   "outputs": [],
   "source": [
    "keyword_list = keyword.tolist()"
   ]
  },
  {
   "cell_type": "code",
   "execution_count": null,
   "id": "f33bade1",
   "metadata": {},
   "outputs": [],
   "source": [
    "keyword_list"
   ]
  },
  {
   "cell_type": "code",
   "execution_count": null,
   "id": "ea7a8970",
   "metadata": {},
   "outputs": [],
   "source": [
    "voca_list = []\n",
    "for s in keyword_list:\n",
    "    voca_list.append(s.split(','))\n",
    "    \n",
    "# voca_list = [x.split(\",\") for x in keyword_list]"
   ]
  },
  {
   "cell_type": "code",
   "execution_count": null,
   "id": "fc3baf0e",
   "metadata": {},
   "outputs": [],
   "source": [
    "voca_list"
   ]
  },
  {
   "cell_type": "code",
   "execution_count": null,
   "id": "28c03ec8",
   "metadata": {},
   "outputs": [],
   "source": [
    "voca_list = list(itertools.chain.from_iterable(voca_list))"
   ]
  },
  {
   "cell_type": "code",
   "execution_count": null,
   "id": "914cff87",
   "metadata": {},
   "outputs": [],
   "source": [
    "# 빈도수 계산\n",
    "word_count = Counter(voca_list).most_common(1000)"
   ]
  },
  {
   "cell_type": "code",
   "execution_count": null,
   "id": "7e267117",
   "metadata": {},
   "outputs": [],
   "source": [
    "word_count"
   ]
  },
  {
   "cell_type": "code",
   "execution_count": null,
   "id": "403bab64",
   "metadata": {},
   "outputs": [],
   "source": [
    "stop_words_list = ['후보', '대통령']"
   ]
  },
  {
   "cell_type": "code",
   "execution_count": null,
   "id": "6e2d1863",
   "metadata": {},
   "outputs": [],
   "source": [
    "voca_list = list(filter(lambda x: x not in stop_words_list, voca_list))"
   ]
  },
  {
   "cell_type": "code",
   "execution_count": null,
   "id": "1d8de7fe",
   "metadata": {
    "scrolled": false
   },
   "outputs": [],
   "source": [
    "word_count = Counter(voca_list).most_common(1000)"
   ]
  },
  {
   "cell_type": "code",
   "execution_count": null,
   "id": "008acb0e",
   "metadata": {},
   "outputs": [],
   "source": [
    "word_count"
   ]
  },
  {
   "cell_type": "code",
   "execution_count": null,
   "id": "d67c8103",
   "metadata": {},
   "outputs": [],
   "source": [
    "word_count_df = pd.DataFrame.from_records(word_count, columns=['WORD','COUNT'])"
   ]
  },
  {
   "cell_type": "code",
   "execution_count": null,
   "id": "e0dc200c",
   "metadata": {},
   "outputs": [],
   "source": [
    "word_count_df"
   ]
  },
  {
   "cell_type": "code",
   "execution_count": null,
   "id": "fa8f73cf",
   "metadata": {
    "scrolled": true
   },
   "outputs": [],
   "source": [
    "plt.figure(figsize=(20,10))\n",
    "plt.rc('font', family='Malgun Gothic')\n",
    "\n",
    "word_list = word_count_df['WORD'].tolist()[:20]\n",
    "count_list = word_count_df['COUNT'].tolist()[:20]\n",
    "\n",
    "plt.bar(word_list, count_list, color='C0')\n",
    "\n",
    "plt.savefig('빈도.png', bbox_inches='tight', dpi=300, transparent=True)\n",
    "\n",
    "plt.show()"
   ]
  },
  {
   "cell_type": "code",
   "execution_count": null,
   "id": "97c2b61e",
   "metadata": {},
   "outputs": [],
   "source": [
    "word_count_df.to_csv('word_count.csv', sep=',', index=False, encoding='utf-8-sig')"
   ]
  }
 ],
 "metadata": {
  "kernelspec": {
   "display_name": "Python 3 (ipykernel)",
   "language": "python",
   "name": "python3"
  },
  "language_info": {
   "codemirror_mode": {
    "name": "ipython",
    "version": 3
   },
   "file_extension": ".py",
   "mimetype": "text/x-python",
   "name": "python",
   "nbconvert_exporter": "python",
   "pygments_lexer": "ipython3",
   "version": "3.10.12"
  }
 },
 "nbformat": 4,
 "nbformat_minor": 5
}
